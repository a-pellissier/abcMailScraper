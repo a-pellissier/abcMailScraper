{
 "cells": [
  {
   "cell_type": "code",
   "execution_count": 56,
   "id": "e16b6bd4",
   "metadata": {},
   "outputs": [],
   "source": [
    "import win32com.client\n",
    "import os\n",
    "import glob\n",
    "import dateutil.parser\n",
    "from datetime import datetime, timedelta, date\n",
    "import openpyxl\n",
    "import colorama\n",
    "from colorama import Fore, Back, Style\n",
    "\n",
    "colorama.init(autoreset=True)\n"
   ]
  },
  {
   "cell_type": "code",
   "execution_count": 15,
   "id": "c195c925",
   "metadata": {},
   "outputs": [],
   "source": [
    "outlook = win32com.client.Dispatch('outlook.application')"
   ]
  },
  {
   "cell_type": "code",
   "execution_count": 16,
   "id": "10b9a217",
   "metadata": {},
   "outputs": [],
   "source": [
    "mapi = outlook.GetNamespace(\"MAPI\")"
   ]
  },
  {
   "cell_type": "code",
   "execution_count": 81,
   "id": "d6a9849f",
   "metadata": {},
   "outputs": [],
   "source": [
    "messages = mapi.Folders(\"Accuracy Business Cup\").Folders(\"test\").Items"
   ]
  },
  {
   "cell_type": "code",
   "execution_count": 82,
   "id": "302c1d46",
   "metadata": {},
   "outputs": [],
   "source": [
    "received_dt = date(2022, 10, 1)\n",
    "received_dt = received_dt.strftime('%m/%d/%Y %H:%M %p')"
   ]
  },
  {
   "cell_type": "code",
   "execution_count": 83,
   "id": "f8beaacf",
   "metadata": {},
   "outputs": [],
   "source": [
    "messages = messages.Restrict(\"[ReceivedTime] >= '\" + received_dt + \"'\")"
   ]
  },
  {
   "cell_type": "code",
   "execution_count": 84,
   "id": "29ef5c23",
   "metadata": {},
   "outputs": [
    {
     "name": "stdout",
     "output_type": "stream",
     "text": [
      "Spain\n",
      "Italy\n",
      "Morocco\n",
      "Cup\n",
      "France\n",
      "France\n",
      "France\n"
     ]
    }
   ],
   "source": [
    "for i,message in enumerate(messages):\n",
    "    print(str(message.Recipients[0]).split(\" \")[-1])"
   ]
  },
  {
   "cell_type": "code",
   "execution_count": null,
   "id": "31f26aea",
   "metadata": {},
   "outputs": [],
   "source": []
  },
  {
   "cell_type": "code",
   "execution_count": null,
   "id": "5d25674d",
   "metadata": {},
   "outputs": [],
   "source": []
  }
 ],
 "metadata": {
  "kernelspec": {
   "display_name": "Python 3 (ipykernel)",
   "language": "python",
   "name": "python3"
  },
  "language_info": {
   "codemirror_mode": {
    "name": "ipython",
    "version": 3
   },
   "file_extension": ".py",
   "mimetype": "text/x-python",
   "name": "python",
   "nbconvert_exporter": "python",
   "pygments_lexer": "ipython3",
   "version": "3.9.12"
  }
 },
 "nbformat": 4,
 "nbformat_minor": 5
}
